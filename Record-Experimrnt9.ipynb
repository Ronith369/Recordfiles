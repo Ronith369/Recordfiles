{
 "cells": [
  {
   "cell_type": "code",
   "execution_count": 8,
   "id": "cd80ec2e",
   "metadata": {},
   "outputs": [],
   "source": [
    "import pandas as pd"
   ]
  },
  {
   "cell_type": "markdown",
   "id": "1a93cd25",
   "metadata": {},
   "source": [
    "# Read data grom auto-mpg.csv"
   ]
  },
  {
   "cell_type": "code",
   "execution_count": 9,
   "id": "27dbba8f",
   "metadata": {
    "scrolled": true
   },
   "outputs": [
    {
     "data": {
      "text/html": [
       "<div>\n",
       "<style scoped>\n",
       "    .dataframe tbody tr th:only-of-type {\n",
       "        vertical-align: middle;\n",
       "    }\n",
       "\n",
       "    .dataframe tbody tr th {\n",
       "        vertical-align: top;\n",
       "    }\n",
       "\n",
       "    .dataframe thead th {\n",
       "        text-align: right;\n",
       "    }\n",
       "</style>\n",
       "<table border=\"1\" class=\"dataframe\">\n",
       "  <thead>\n",
       "    <tr style=\"text-align: right;\">\n",
       "      <th></th>\n",
       "      <th>mpg</th>\n",
       "      <th>Cylinder</th>\n",
       "      <th>Displacement</th>\n",
       "      <th>HP</th>\n",
       "      <th>Weight</th>\n",
       "      <th>Acceleration</th>\n",
       "      <th>Model Year</th>\n",
       "      <th>Origin</th>\n",
       "      <th>Car name</th>\n",
       "    </tr>\n",
       "  </thead>\n",
       "  <tbody>\n",
       "    <tr>\n",
       "      <th>0</th>\n",
       "      <td>18</td>\n",
       "      <td>4</td>\n",
       "      <td>300</td>\n",
       "      <td>130</td>\n",
       "      <td>3504</td>\n",
       "      <td>12.0</td>\n",
       "      <td>70</td>\n",
       "      <td>1</td>\n",
       "      <td>Honda</td>\n",
       "    </tr>\n",
       "    <tr>\n",
       "      <th>1</th>\n",
       "      <td>15</td>\n",
       "      <td>8</td>\n",
       "      <td>325</td>\n",
       "      <td>165</td>\n",
       "      <td>3695</td>\n",
       "      <td>11.5</td>\n",
       "      <td>71</td>\n",
       "      <td>1</td>\n",
       "      <td>Nexon</td>\n",
       "    </tr>\n",
       "    <tr>\n",
       "      <th>2</th>\n",
       "      <td>18</td>\n",
       "      <td>8</td>\n",
       "      <td>318</td>\n",
       "      <td>160</td>\n",
       "      <td>3440</td>\n",
       "      <td>11.0</td>\n",
       "      <td>70</td>\n",
       "      <td>1</td>\n",
       "      <td>Ford</td>\n",
       "    </tr>\n",
       "    <tr>\n",
       "      <th>3</th>\n",
       "      <td>16</td>\n",
       "      <td>6</td>\n",
       "      <td>305</td>\n",
       "      <td>160</td>\n",
       "      <td>3450</td>\n",
       "      <td>12.0</td>\n",
       "      <td>75</td>\n",
       "      <td>1</td>\n",
       "      <td>Indica</td>\n",
       "    </tr>\n",
       "    <tr>\n",
       "      <th>4</th>\n",
       "      <td>17</td>\n",
       "      <td>8</td>\n",
       "      <td>307</td>\n",
       "      <td>150</td>\n",
       "      <td>3449</td>\n",
       "      <td>10.5</td>\n",
       "      <td>80</td>\n",
       "      <td>1</td>\n",
       "      <td>Swift</td>\n",
       "    </tr>\n",
       "  </tbody>\n",
       "</table>\n",
       "</div>"
      ],
      "text/plain": [
       "   mpg  Cylinder  Displacement   HP  Weight  Acceleration  Model Year  Origin  \\\n",
       "0   18         4           300  130    3504          12.0          70       1   \n",
       "1   15         8           325  165    3695          11.5          71       1   \n",
       "2   18         8           318  160    3440          11.0          70       1   \n",
       "3   16         6           305  160    3450          12.0          75       1   \n",
       "4   17         8           307  150    3449          10.5          80       1   \n",
       "\n",
       "  Car name  \n",
       "0    Honda  \n",
       "1    Nexon  \n",
       "2     Ford  \n",
       "3   Indica  \n",
       "4    Swift  "
      ]
     },
     "execution_count": 9,
     "metadata": {},
     "output_type": "execute_result"
    }
   ],
   "source": [
    "#Reading the data set\n",
    "data = pd.read_csv(\"C:\\\\Users\\\\GPT-BANTWAL\\\\AI\\\\9.csv\")\n",
    "data"
   ]
  },
  {
   "cell_type": "markdown",
   "id": "9f22154f",
   "metadata": {},
   "source": [
    "# Give the code to get all cars with 8 cylinders"
   ]
  },
  {
   "cell_type": "code",
   "execution_count": 10,
   "id": "f6b56dfc",
   "metadata": {},
   "outputs": [
    {
     "data": {
      "text/html": [
       "<div>\n",
       "<style scoped>\n",
       "    .dataframe tbody tr th:only-of-type {\n",
       "        vertical-align: middle;\n",
       "    }\n",
       "\n",
       "    .dataframe tbody tr th {\n",
       "        vertical-align: top;\n",
       "    }\n",
       "\n",
       "    .dataframe thead th {\n",
       "        text-align: right;\n",
       "    }\n",
       "</style>\n",
       "<table border=\"1\" class=\"dataframe\">\n",
       "  <thead>\n",
       "    <tr style=\"text-align: right;\">\n",
       "      <th></th>\n",
       "      <th>mpg</th>\n",
       "      <th>Cylinder</th>\n",
       "      <th>Displacement</th>\n",
       "      <th>HP</th>\n",
       "      <th>Weight</th>\n",
       "      <th>Acceleration</th>\n",
       "      <th>Model Year</th>\n",
       "      <th>Origin</th>\n",
       "      <th>Car name</th>\n",
       "    </tr>\n",
       "  </thead>\n",
       "  <tbody>\n",
       "    <tr>\n",
       "      <th>1</th>\n",
       "      <td>15</td>\n",
       "      <td>8</td>\n",
       "      <td>325</td>\n",
       "      <td>165</td>\n",
       "      <td>3695</td>\n",
       "      <td>11.5</td>\n",
       "      <td>71</td>\n",
       "      <td>1</td>\n",
       "      <td>Nexon</td>\n",
       "    </tr>\n",
       "    <tr>\n",
       "      <th>2</th>\n",
       "      <td>18</td>\n",
       "      <td>8</td>\n",
       "      <td>318</td>\n",
       "      <td>160</td>\n",
       "      <td>3440</td>\n",
       "      <td>11.0</td>\n",
       "      <td>70</td>\n",
       "      <td>1</td>\n",
       "      <td>Ford</td>\n",
       "    </tr>\n",
       "    <tr>\n",
       "      <th>4</th>\n",
       "      <td>17</td>\n",
       "      <td>8</td>\n",
       "      <td>307</td>\n",
       "      <td>150</td>\n",
       "      <td>3449</td>\n",
       "      <td>10.5</td>\n",
       "      <td>80</td>\n",
       "      <td>1</td>\n",
       "      <td>Swift</td>\n",
       "    </tr>\n",
       "  </tbody>\n",
       "</table>\n",
       "</div>"
      ],
      "text/plain": [
       "   mpg  Cylinder  Displacement   HP  Weight  Acceleration  Model Year  Origin  \\\n",
       "1   15         8           325  165    3695          11.5          71       1   \n",
       "2   18         8           318  160    3440          11.0          70       1   \n",
       "4   17         8           307  150    3449          10.5          80       1   \n",
       "\n",
       "  Car name  \n",
       "1    Nexon  \n",
       "2     Ford  \n",
       "4    Swift  "
      ]
     },
     "execution_count": 10,
     "metadata": {},
     "output_type": "execute_result"
    }
   ],
   "source": [
    "cylinders = data[data['Cylinder'] ==8]\n",
    "cylinders"
   ]
  },
  {
   "cell_type": "markdown",
   "id": "ac8d831b",
   "metadata": {},
   "source": [
    "# Get the number of cars manufactured in each year"
   ]
  },
  {
   "cell_type": "code",
   "execution_count": 11,
   "id": "57059d97",
   "metadata": {},
   "outputs": [
    {
     "data": {
      "text/plain": [
       "Model Year\n",
       "70    2\n",
       "71    1\n",
       "75    1\n",
       "80    1\n",
       "dtype: int64"
      ]
     },
     "execution_count": 11,
     "metadata": {},
     "output_type": "execute_result"
    }
   ],
   "source": [
    "year = data.groupby(\"Model Year\").size()\n",
    "year"
   ]
  }
 ],
 "metadata": {
  "kernelspec": {
   "display_name": "Python 3 (ipykernel)",
   "language": "python",
   "name": "python3"
  },
  "language_info": {
   "codemirror_mode": {
    "name": "ipython",
    "version": 3
   },
   "file_extension": ".py",
   "mimetype": "text/x-python",
   "name": "python",
   "nbconvert_exporter": "python",
   "pygments_lexer": "ipython3",
   "version": "3.11.4"
  }
 },
 "nbformat": 4,
 "nbformat_minor": 5
}
