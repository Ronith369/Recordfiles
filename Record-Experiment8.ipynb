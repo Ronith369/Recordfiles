{
 "cells": [
  {
   "cell_type": "code",
   "execution_count": 29,
   "id": "c59ca9ba",
   "metadata": {},
   "outputs": [],
   "source": [
    "# importing libraries\n",
    "import pandas as pd\n",
    "import matplotlib.pyplot as plt"
   ]
  },
  {
   "cell_type": "code",
   "execution_count": 30,
   "id": "70477caf",
   "metadata": {},
   "outputs": [
    {
     "data": {
      "text/html": [
       "<div>\n",
       "<style scoped>\n",
       "    .dataframe tbody tr th:only-of-type {\n",
       "        vertical-align: middle;\n",
       "    }\n",
       "\n",
       "    .dataframe tbody tr th {\n",
       "        vertical-align: top;\n",
       "    }\n",
       "\n",
       "    .dataframe thead th {\n",
       "        text-align: right;\n",
       "    }\n",
       "</style>\n",
       "<table border=\"1\" class=\"dataframe\">\n",
       "  <thead>\n",
       "    <tr style=\"text-align: right;\">\n",
       "      <th></th>\n",
       "      <th>Number</th>\n",
       "      <th>Pencil</th>\n",
       "      <th>Text Books</th>\n",
       "      <th>Drawing Sheet</th>\n",
       "      <th>Total Units</th>\n",
       "      <th>Profits</th>\n",
       "    </tr>\n",
       "  </thead>\n",
       "  <tbody>\n",
       "    <tr>\n",
       "      <th>0</th>\n",
       "      <td>1</td>\n",
       "      <td>300</td>\n",
       "      <td>250</td>\n",
       "      <td>100</td>\n",
       "      <td>800</td>\n",
       "      <td>8000</td>\n",
       "    </tr>\n",
       "    <tr>\n",
       "      <th>1</th>\n",
       "      <td>2</td>\n",
       "      <td>35</td>\n",
       "      <td>350</td>\n",
       "      <td>200</td>\n",
       "      <td>1000</td>\n",
       "      <td>9500</td>\n",
       "    </tr>\n",
       "    <tr>\n",
       "      <th>2</th>\n",
       "      <td>3</td>\n",
       "      <td>400</td>\n",
       "      <td>400</td>\n",
       "      <td>200</td>\n",
       "      <td>1320</td>\n",
       "      <td>10256</td>\n",
       "    </tr>\n",
       "    <tr>\n",
       "      <th>3</th>\n",
       "      <td>4</td>\n",
       "      <td>500</td>\n",
       "      <td>420</td>\n",
       "      <td>250</td>\n",
       "      <td>1510</td>\n",
       "      <td>12000</td>\n",
       "    </tr>\n",
       "    <tr>\n",
       "      <th>4</th>\n",
       "      <td>5</td>\n",
       "      <td>520</td>\n",
       "      <td>500</td>\n",
       "      <td>300</td>\n",
       "      <td>2000</td>\n",
       "      <td>18600</td>\n",
       "    </tr>\n",
       "  </tbody>\n",
       "</table>\n",
       "</div>"
      ],
      "text/plain": [
       "   Number  Pencil  Text Books  Drawing Sheet  Total Units  Profits\n",
       "0       1     300         250            100          800     8000\n",
       "1       2      35         350            200         1000     9500\n",
       "2       3     400         400            200         1320    10256\n",
       "3       4     500         420            250         1510    12000\n",
       "4       5     520         500            300         2000    18600"
      ]
     },
     "execution_count": 30,
     "metadata": {},
     "output_type": "execute_result"
    }
   ],
   "source": [
    "#Reading the data set\n",
    "data = pd.read_csv(\"C:\\\\Users\\\\GPT-BANTWAL\\\\AI\\\\8.csv\")\n",
    "data"
   ]
  },
  {
   "cell_type": "markdown",
   "id": "9cf8d813",
   "metadata": {},
   "source": [
    "# Check Statistical info of the data set "
   ]
  },
  {
   "cell_type": "code",
   "execution_count": 31,
   "id": "2410bc40",
   "metadata": {},
   "outputs": [
    {
     "name": "stdout",
     "output_type": "stream",
     "text": [
      "<class 'pandas.core.frame.DataFrame'>\n",
      "RangeIndex: 5 entries, 0 to 4\n",
      "Data columns (total 6 columns):\n",
      " #   Column         Non-Null Count  Dtype\n",
      "---  ------         --------------  -----\n",
      " 0   Number         5 non-null      int64\n",
      " 1   Pencil         5 non-null      int64\n",
      " 2   Text Books     5 non-null      int64\n",
      " 3   Drawing Sheet  5 non-null      int64\n",
      " 4   Total Units    5 non-null      int64\n",
      " 5   Profits        5 non-null      int64\n",
      "dtypes: int64(6)\n",
      "memory usage: 372.0 bytes\n"
     ]
    }
   ],
   "source": [
    "data.info()"
   ]
  },
  {
   "cell_type": "markdown",
   "id": "25e2e932",
   "metadata": {},
   "source": [
    "# Plot a line chart/plot showing total profit on y-axis and numbers column on x-axis"
   ]
  },
  {
   "cell_type": "code",
   "execution_count": 32,
   "id": "e8052b84",
   "metadata": {},
   "outputs": [
    {
     "data": {
      "image/png": "[encoded data removed]",
      "text/plain": [
       "<Figure size 640x480 with 1 Axes>"
      ]
     },
     "metadata": {},
     "output_type": "display_data"
    }
   ],
   "source": [
    "x = [1,2,3,4,5]\n",
    "y = [8000,9500,10256,12000,18600]\n",
    "plt.plot(x,y)\n",
    "plt.xlabel('Numbers')\n",
    "plt.ylabel('Profits')\n",
    "plt.title('My first graph')\n",
    "plt.show()"
   ]
  },
  {
   "cell_type": "markdown",
   "id": "401c1689",
   "metadata": {},
   "source": [
    "# Find the missing values"
   ]
  },
  {
   "cell_type": "code",
   "execution_count": 33,
   "id": "8b334074",
   "metadata": {},
   "outputs": [
    {
     "data": {
      "text/plain": [
       "Number           0\n",
       "Pencil           0\n",
       "Text Books       0\n",
       "Drawing Sheet    0\n",
       "Total Units      0\n",
       "Profits          0\n",
       "dtype: int64"
      ]
     },
     "execution_count": 33,
     "metadata": {},
     "output_type": "execute_result"
    }
   ],
   "source": [
    "data.isnull().sum()"
   ]
  },
  {
   "cell_type": "markdown",
   "id": "256fc875",
   "metadata": {},
   "source": [
    "# Find the sum of total Profits"
   ]
  },
  {
   "cell_type": "code",
   "execution_count": 34,
   "id": "5bbab649",
   "metadata": {},
   "outputs": [
    {
     "name": "stdout",
     "output_type": "stream",
     "text": [
      "58356\n"
     ]
    }
   ],
   "source": [
    "numbers=[8000,9500,10256,12000,18600]\n",
    "total=sum(numbers)\n",
    "print(total)"
   ]
  },
  {
   "cell_type": "markdown",
   "id": "1916b9bd",
   "metadata": {},
   "source": [
    "# Find the max value from drawind sheet column"
   ]
  },
  {
   "cell_type": "code",
   "execution_count": 35,
   "id": "769dd73e",
   "metadata": {},
   "outputs": [
    {
     "data": {
      "text/plain": [
       "300"
      ]
     },
     "execution_count": 35,
     "metadata": {},
     "output_type": "execute_result"
    }
   ],
   "source": [
    "column = [100,200,200,250,300]\n",
    "max_value = max(column)\n",
    "max_value"
   ]
  }
 ],
 "metadata": {
  "kernelspec": {
   "display_name": "Python 3 (ipykernel)",
   "language": "python",
   "name": "python3"
  },
  "language_info": {
   "codemirror_mode": {
    "name": "ipython",
    "version": 3
   },
   "file_extension": ".py",
   "mimetype": "text/x-python",
   "name": "python",
   "nbconvert_exporter": "python",
   "pygments_lexer": "ipython3",
   "version": "3.11.4"
  }
 },
 "nbformat": 4,
 "nbformat_minor": 5
}
